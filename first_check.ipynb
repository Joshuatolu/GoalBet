{
 "cells": [
  {
   "cell_type": "code",
   "execution_count": 4,
   "metadata": {},
   "outputs": [],
   "source": [
    "# Import libraries\n",
    "import pandas as pd\n",
    "import requests as rq\n",
    "from datetime import datetime\n",
    "import os"
   ]
  },
  {
   "cell_type": "code",
   "execution_count": 30,
   "metadata": {},
   "outputs": [
    {
     "data": {
      "text/html": [
       "<div>\n",
       "<style scoped>\n",
       "    .dataframe tbody tr th:only-of-type {\n",
       "        vertical-align: middle;\n",
       "    }\n",
       "\n",
       "    .dataframe tbody tr th {\n",
       "        vertical-align: top;\n",
       "    }\n",
       "\n",
       "    .dataframe thead th {\n",
       "        text-align: right;\n",
       "    }\n",
       "</style>\n",
       "<table border=\"1\" class=\"dataframe\">\n",
       "  <thead>\n",
       "    <tr style=\"text-align: right;\">\n",
       "      <th></th>\n",
       "      <th>Div</th>\n",
       "      <th>Date</th>\n",
       "      <th>HomeTeam</th>\n",
       "      <th>AwayTeam</th>\n",
       "      <th>FTHG</th>\n",
       "      <th>FTAG</th>\n",
       "    </tr>\n",
       "  </thead>\n",
       "  <tbody>\n",
       "    <tr>\n",
       "      <th>0</th>\n",
       "      <td>E0</td>\n",
       "      <td>14/08/04</td>\n",
       "      <td>Aston Villa</td>\n",
       "      <td>Southampton</td>\n",
       "      <td>2</td>\n",
       "      <td>0</td>\n",
       "    </tr>\n",
       "    <tr>\n",
       "      <th>1</th>\n",
       "      <td>E0</td>\n",
       "      <td>14/08/04</td>\n",
       "      <td>Blackburn</td>\n",
       "      <td>West Brom</td>\n",
       "      <td>1</td>\n",
       "      <td>1</td>\n",
       "    </tr>\n",
       "    <tr>\n",
       "      <th>2</th>\n",
       "      <td>E0</td>\n",
       "      <td>14/08/04</td>\n",
       "      <td>Bolton</td>\n",
       "      <td>Charlton</td>\n",
       "      <td>4</td>\n",
       "      <td>1</td>\n",
       "    </tr>\n",
       "    <tr>\n",
       "      <th>3</th>\n",
       "      <td>E0</td>\n",
       "      <td>14/08/04</td>\n",
       "      <td>Man City</td>\n",
       "      <td>Fulham</td>\n",
       "      <td>1</td>\n",
       "      <td>1</td>\n",
       "    </tr>\n",
       "    <tr>\n",
       "      <th>4</th>\n",
       "      <td>E0</td>\n",
       "      <td>14/08/04</td>\n",
       "      <td>Middlesbrough</td>\n",
       "      <td>Newcastle</td>\n",
       "      <td>2</td>\n",
       "      <td>2</td>\n",
       "    </tr>\n",
       "  </tbody>\n",
       "</table>\n",
       "</div>"
      ],
      "text/plain": [
       "  Div      Date       HomeTeam     AwayTeam  FTHG  FTAG\n",
       "0  E0  14/08/04    Aston Villa  Southampton     2     0\n",
       "1  E0  14/08/04      Blackburn    West Brom     1     1\n",
       "2  E0  14/08/04         Bolton     Charlton     4     1\n",
       "3  E0  14/08/04       Man City       Fulham     1     1\n",
       "4  E0  14/08/04  Middlesbrough    Newcastle     2     2"
      ]
     },
     "execution_count": 30,
     "metadata": {},
     "output_type": "execute_result"
    }
   ],
   "source": [
    "file_1 = pd.read_csv('https://www.football-data.co.uk/mmz4281/0405/E0.csv', encoding='ISO-8859-1', usecols=range(6))\n",
    "file_1.head()"
   ]
  },
  {
   "cell_type": "code",
   "execution_count": 9,
   "metadata": {},
   "outputs": [
    {
     "data": {
      "text/plain": [
       "2024"
      ]
     },
     "execution_count": 9,
     "metadata": {},
     "output_type": "execute_result"
    }
   ],
   "source": [
    "# Get the current date and extract the year in the format yy\n",
    "current_date = datetime.now()\n",
    "formated_date = int(current_date.strftime('%Y'))\n",
    "formated_date"
   ]
  },
  {
   "cell_type": "code",
   "execution_count": 10,
   "metadata": {},
   "outputs": [
    {
     "name": "stdout",
     "output_type": "stream",
     "text": [
      "2425\n",
      "2324\n",
      "2223\n",
      "2122\n",
      "2021\n"
     ]
    }
   ],
   "source": [
    "# Logic for the season change\n",
    "for i in range(5):\n",
    "    season = str(formated_date)[2:]+str(formated_date+1)[2:]\n",
    "    print(season)\n",
    "    formated_date-=1"
   ]
  },
  {
   "cell_type": "code",
   "execution_count": 33,
   "metadata": {},
   "outputs": [
    {
     "data": {
      "text/plain": [
       "<bound method NDFrame.head of    Div        Date   Time     HomeTeam       AwayTeam  FTHG  FTAG FTR  HTHG  \\\n",
       "0   E0  16/08/2024  20:00   Man United         Fulham     1     0   H     0   \n",
       "1   E0  17/08/2024  12:30      Ipswich      Liverpool     0     2   A     0   \n",
       "2   E0  17/08/2024  15:00      Arsenal         Wolves     2     0   H     1   \n",
       "3   E0  17/08/2024  15:00      Everton       Brighton     0     3   A     0   \n",
       "4   E0  17/08/2024  15:00    Newcastle    Southampton     1     0   H     1   \n",
       "..  ..         ...    ...          ...            ...   ...   ...  ..   ...   \n",
       "65  E0  05/10/2024  15:00     West Ham        Ipswich     4     1   H     2   \n",
       "66  E0  05/10/2024  17:30      Everton      Newcastle     0     0   D     0   \n",
       "67  E0  06/10/2024  14:00  Aston Villa     Man United     0     0   D     0   \n",
       "68  E0  06/10/2024  14:00      Chelsea  Nott'm Forest     1     1   D     0   \n",
       "69  E0  06/10/2024  16:30     Brighton      Tottenham     3     2   H     0   \n",
       "\n",
       "    HTAG  ... B365CAHH B365CAHA  PCAHH  PCAHA  MaxCAHH  MaxCAHA  AvgCAHH  \\\n",
       "0      0  ...     1.86     2.07   1.83   2.11     1.88     2.11     1.82   \n",
       "1      0  ...     2.05     1.88   2.04   1.90     2.20     2.00     1.99   \n",
       "2      0  ...     2.02     1.91   2.00   1.90     2.05     1.93     1.99   \n",
       "3      1  ...     1.87     2.06   1.86   2.07     1.92     2.10     1.83   \n",
       "4      0  ...     1.87     2.06   1.88   2.06     1.89     2.10     1.82   \n",
       "..   ...  ...      ...      ...    ...    ...      ...      ...      ...   \n",
       "65     1  ...     1.94     1.99   1.93   2.00     1.95     2.02     1.90   \n",
       "66     0  ...     1.92     2.01   1.92   2.01     1.93     2.01     1.87   \n",
       "67     0  ...     1.88     2.05   1.96   1.96     1.99     2.05     1.91   \n",
       "68     0  ...     2.09     1.84   2.11   1.81     2.13     1.88     2.07   \n",
       "69     2  ...     1.94     1.99   1.90   2.03     1.97     2.03     1.88   \n",
       "\n",
       "    AvgCAHA  BFECAHH  BFECAHA  \n",
       "0      2.05     1.90     2.08  \n",
       "1      1.88     2.04     1.93  \n",
       "2      1.87     2.02     1.96  \n",
       "3      2.04     1.88     2.11  \n",
       "4      2.05     1.89     2.10  \n",
       "..      ...      ...      ...  \n",
       "65     1.97     1.94     2.05  \n",
       "66     1.99     1.96     2.02  \n",
       "67     1.95     1.96     2.02  \n",
       "68     1.80     2.16     1.85  \n",
       "69     1.99     1.93     2.06  \n",
       "\n",
       "[70 rows x 120 columns]>"
      ]
     },
     "execution_count": 33,
     "metadata": {},
     "output_type": "execute_result"
    }
   ],
   "source": [
    "# Testing the url string\n",
    "E0_url = f'https://www.football-data.co.uk/mmz4281/{season}/E0.csv'\n",
    "\n",
    "E0_2425_data = pd.read_csv(E0_url)\n",
    "E0_2425_data.head"
   ]
  },
  {
   "cell_type": "code",
   "execution_count": 58,
   "metadata": {},
   "outputs": [
    {
     "name": "stdout",
     "output_type": "stream",
     "text": [
      "Saved E0_2425.csv to Premiership\\E0_2425.csv\n",
      "Saved E1_2425.csv to Championship\\E1_2425.csv\n",
      "Saved E2_2425.csv to League 1\\E2_2425.csv\n",
      "Saved E0_2324.csv to Premiership\\E0_2324.csv\n",
      "Saved E1_2324.csv to Championship\\E1_2324.csv\n",
      "Saved E2_2324.csv to League 1\\E2_2324.csv\n",
      "Saved E0_2223.csv to Premiership\\E0_2223.csv\n",
      "Saved E1_2223.csv to Championship\\E1_2223.csv\n",
      "Saved E2_2223.csv to League 1\\E2_2223.csv\n",
      "Saved E0_2122.csv to Premiership\\E0_2122.csv\n",
      "Saved E1_2122.csv to Championship\\E1_2122.csv\n",
      "Saved E2_2122.csv to League 1\\E2_2122.csv\n",
      "Saved E0_2021.csv to Premiership\\E0_2021.csv\n",
      "Saved E1_2021.csv to Championship\\E1_2021.csv\n",
      "Saved E2_2021.csv to League 1\\E2_2021.csv\n"
     ]
    }
   ],
   "source": [
    "# Creating folders for the 3 leagues\n",
    "premiership_folder = 'Premiership'\n",
    "championship_folder = 'Championship'\n",
    "league1_folder = 'League 1'\n",
    "\n",
    "# Setting up a For-Loop to run 5 times since we want to extract for only 5 years starting from current season 2024/2025\n",
    "for i in range(5):\n",
    "    # Get the season in the format cyny - (cy - current year; ny - next year)\n",
    "    season = str(formated_date)+str(formated_date+1)\n",
    "\n",
    "    # Create the naming formats and paths for the 3 leagues\n",
    "    premiership_file_name = f'E0_{season}.csv'\n",
    "    premiership_path = os.path.join(premiership_folder, premiership_file_name)\n",
    "\n",
    "    championship_file_name = f'E1_{season}.csv'\n",
    "    championship_path = os.path.join(championship_folder, championship_file_name)\n",
    "\n",
    "    league1_file_name = f'E2_{season}.csv'\n",
    "    league1_path = os.path.join(league1_folder, league1_file_name)\n",
    "\n",
    "    # Create the url formatting strings for the 3 leagues\n",
    "    premiership_url = f'https://www.football-data.co.uk/mmz4281/{season}/E0.csv'\n",
    "    championship_url = f'https://www.football-data.co.uk/mmz4281/{season}/E1.csv'\n",
    "    league1_url = f'https://www.football-data.co.uk/mmz4281/{season}/E2.csv'\n",
    "\n",
    "    # Read and save premiership data\n",
    "    response = rq.get(premiership_url)\n",
    "    if response.status_code == 200:\n",
    "        with open(premiership_path, 'wb') as f:\n",
    "            f.write(response.content)\n",
    "            print(f'Saved {premiership_file_name} to {premiership_path}')\n",
    "    else:\n",
    "        print(f'Premiership file not found for the season {season}')\n",
    "    \n",
    "    # Read and save championship data\n",
    "    response = rq.get(championship_url)\n",
    "    if response.status_code == 200:\n",
    "        with open(championship_path, 'wb') as f:\n",
    "            f.write(response.content)\n",
    "            print(f'Saved {championship_file_name} to {championship_path}')\n",
    "    else:\n",
    "        print(f'Championship file not found for the season {season}')\n",
    "\n",
    "    # Read and save league 1 data\n",
    "    response = rq.get(league1_url)\n",
    "    if response.status_code == 200:\n",
    "        with open(league1_path, 'wb') as f:\n",
    "            f.write(response.content)\n",
    "            print(f'Saved {league1_file_name} to {league1_path}')\n",
    "    else:\n",
    "        print(f'League 1 file not found for the season {season}')\n",
    "\n",
    "    formated_date-=1\n"
   ]
  }
 ],
 "metadata": {
  "kernelspec": {
   "display_name": "base",
   "language": "python",
   "name": "python3"
  },
  "language_info": {
   "codemirror_mode": {
    "name": "ipython",
    "version": 3
   },
   "file_extension": ".py",
   "mimetype": "text/x-python",
   "name": "python",
   "nbconvert_exporter": "python",
   "pygments_lexer": "ipython3",
   "version": "3.12.4"
  }
 },
 "nbformat": 4,
 "nbformat_minor": 2
}
